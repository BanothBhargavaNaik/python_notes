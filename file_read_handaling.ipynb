{
  "nbformat": 4,
  "nbformat_minor": 0,
  "metadata": {
    "colab": {
      "provenance": [],
      "authorship_tag": "ABX9TyPhg3PMkCVXEqTHmYhY9iK3",
      "include_colab_link": true
    },
    "kernelspec": {
      "name": "python3",
      "display_name": "Python 3"
    },
    "language_info": {
      "name": "python"
    }
  },
  "cells": [
    {
      "cell_type": "markdown",
      "metadata": {
        "id": "view-in-github",
        "colab_type": "text"
      },
      "source": [
        "<a href=\"https://colab.research.google.com/github/BanothBhargavaNaik/python_notes/blob/main/file_read_handaling.ipynb\" target=\"_parent\"><img src=\"https://colab.research.google.com/assets/colab-badge.svg\" alt=\"Open In Colab\"/></a>"
      ]
    },
    {
      "cell_type": "markdown",
      "source": [
        "**File Handling in Python**"
      ],
      "metadata": {
        "id": "v9SUZ9d-7d_Y"
      }
    },
    {
      "cell_type": "markdown",
      "source": [
        "**Objectives**\n",
        "+ Learn how to open and read text files.\n",
        "+ Understand how the open() function works in Python.\n",
        "+ Get familiar with the 'with' method in Python.\n",
        "+ Discover how to use the read() method in Python.\n",
        "+ Explore the readline() method in Python.\n",
        "+ Learn how to read specific character(s) from a file"
      ],
      "metadata": {
        "id": "NkV52sE_7wUB"
      }
    },
    {
      "cell_type": "markdown",
      "source": [
        "# Reading Text Files\n",
        "Reading text files involves extracting and processing the data stored within them. Text files can have various structures, and how you read them depends on their format. Here's a general guide on reading text files with different structures:"
      ],
      "metadata": {
        "id": "YJSrIB9P8Ymh"
      }
    },
    {
      "cell_type": "markdown",
      "source": [
        "### Plain Text Files:\n",
        "+ Plain text files contain unformatted text without any specific structure.\n",
        "+ You can read plain text files line by line or load the entire content into memory."
      ],
      "metadata": {
        "id": "kDzlBT7Q8iH6"
      }
    },
    {
      "cell_type": "markdown",
      "source": [
        "# Using Python's Open Function\n",
        "\n",
        "Python's open function is used to create a file object and access the data within a text file. It takes two primary parameters:\n",
        "\n",
        "+ **File Path:** The file path consists of the filename and directory where the file is located.\n",
        "\n",
        "+ **Mode:** The mode parameter specifies the purpose of opening the file, such as 'r' for reading, 'w' for writing, or 'a' for appending."
      ],
      "metadata": {
        "id": "qmDc0K0b8rPc"
      }
    },
    {
      "cell_type": "code",
      "source": [
        "from google.colab import files\n",
        "uploade = files.upload()\n"
      ],
      "metadata": {
        "colab": {
          "base_uri": "https://localhost:8080/",
          "height": 73
        },
        "id": "pFdkkin_Af_8",
        "outputId": "6b1b7166-d1aa-40f0-aac0-8ec6d2b65ce4"
      },
      "execution_count": null,
      "outputs": [
        {
          "output_type": "display_data",
          "data": {
            "text/plain": [
              "<IPython.core.display.HTML object>"
            ],
            "text/html": [
              "\n",
              "     <input type=\"file\" id=\"files-9b675f39-aaf5-4f1d-a414-f2a924fe3aca\" name=\"files[]\" multiple disabled\n",
              "        style=\"border:none\" />\n",
              "     <output id=\"result-9b675f39-aaf5-4f1d-a414-f2a924fe3aca\">\n",
              "      Upload widget is only available when the cell has been executed in the\n",
              "      current browser session. Please rerun this cell to enable.\n",
              "      </output>\n",
              "      <script>// Copyright 2017 Google LLC\n",
              "//\n",
              "// Licensed under the Apache License, Version 2.0 (the \"License\");\n",
              "// you may not use this file except in compliance with the License.\n",
              "// You may obtain a copy of the License at\n",
              "//\n",
              "//      http://www.apache.org/licenses/LICENSE-2.0\n",
              "//\n",
              "// Unless required by applicable law or agreed to in writing, software\n",
              "// distributed under the License is distributed on an \"AS IS\" BASIS,\n",
              "// WITHOUT WARRANTIES OR CONDITIONS OF ANY KIND, either express or implied.\n",
              "// See the License for the specific language governing permissions and\n",
              "// limitations under the License.\n",
              "\n",
              "/**\n",
              " * @fileoverview Helpers for google.colab Python module.\n",
              " */\n",
              "(function(scope) {\n",
              "function span(text, styleAttributes = {}) {\n",
              "  const element = document.createElement('span');\n",
              "  element.textContent = text;\n",
              "  for (const key of Object.keys(styleAttributes)) {\n",
              "    element.style[key] = styleAttributes[key];\n",
              "  }\n",
              "  return element;\n",
              "}\n",
              "\n",
              "// Max number of bytes which will be uploaded at a time.\n",
              "const MAX_PAYLOAD_SIZE = 100 * 1024;\n",
              "\n",
              "function _uploadFiles(inputId, outputId) {\n",
              "  const steps = uploadFilesStep(inputId, outputId);\n",
              "  const outputElement = document.getElementById(outputId);\n",
              "  // Cache steps on the outputElement to make it available for the next call\n",
              "  // to uploadFilesContinue from Python.\n",
              "  outputElement.steps = steps;\n",
              "\n",
              "  return _uploadFilesContinue(outputId);\n",
              "}\n",
              "\n",
              "// This is roughly an async generator (not supported in the browser yet),\n",
              "// where there are multiple asynchronous steps and the Python side is going\n",
              "// to poll for completion of each step.\n",
              "// This uses a Promise to block the python side on completion of each step,\n",
              "// then passes the result of the previous step as the input to the next step.\n",
              "function _uploadFilesContinue(outputId) {\n",
              "  const outputElement = document.getElementById(outputId);\n",
              "  const steps = outputElement.steps;\n",
              "\n",
              "  const next = steps.next(outputElement.lastPromiseValue);\n",
              "  return Promise.resolve(next.value.promise).then((value) => {\n",
              "    // Cache the last promise value to make it available to the next\n",
              "    // step of the generator.\n",
              "    outputElement.lastPromiseValue = value;\n",
              "    return next.value.response;\n",
              "  });\n",
              "}\n",
              "\n",
              "/**\n",
              " * Generator function which is called between each async step of the upload\n",
              " * process.\n",
              " * @param {string} inputId Element ID of the input file picker element.\n",
              " * @param {string} outputId Element ID of the output display.\n",
              " * @return {!Iterable<!Object>} Iterable of next steps.\n",
              " */\n",
              "function* uploadFilesStep(inputId, outputId) {\n",
              "  const inputElement = document.getElementById(inputId);\n",
              "  inputElement.disabled = false;\n",
              "\n",
              "  const outputElement = document.getElementById(outputId);\n",
              "  outputElement.innerHTML = '';\n",
              "\n",
              "  const pickedPromise = new Promise((resolve) => {\n",
              "    inputElement.addEventListener('change', (e) => {\n",
              "      resolve(e.target.files);\n",
              "    });\n",
              "  });\n",
              "\n",
              "  const cancel = document.createElement('button');\n",
              "  inputElement.parentElement.appendChild(cancel);\n",
              "  cancel.textContent = 'Cancel upload';\n",
              "  const cancelPromise = new Promise((resolve) => {\n",
              "    cancel.onclick = () => {\n",
              "      resolve(null);\n",
              "    };\n",
              "  });\n",
              "\n",
              "  // Wait for the user to pick the files.\n",
              "  const files = yield {\n",
              "    promise: Promise.race([pickedPromise, cancelPromise]),\n",
              "    response: {\n",
              "      action: 'starting',\n",
              "    }\n",
              "  };\n",
              "\n",
              "  cancel.remove();\n",
              "\n",
              "  // Disable the input element since further picks are not allowed.\n",
              "  inputElement.disabled = true;\n",
              "\n",
              "  if (!files) {\n",
              "    return {\n",
              "      response: {\n",
              "        action: 'complete',\n",
              "      }\n",
              "    };\n",
              "  }\n",
              "\n",
              "  for (const file of files) {\n",
              "    const li = document.createElement('li');\n",
              "    li.append(span(file.name, {fontWeight: 'bold'}));\n",
              "    li.append(span(\n",
              "        `(${file.type || 'n/a'}) - ${file.size} bytes, ` +\n",
              "        `last modified: ${\n",
              "            file.lastModifiedDate ? file.lastModifiedDate.toLocaleDateString() :\n",
              "                                    'n/a'} - `));\n",
              "    const percent = span('0% done');\n",
              "    li.appendChild(percent);\n",
              "\n",
              "    outputElement.appendChild(li);\n",
              "\n",
              "    const fileDataPromise = new Promise((resolve) => {\n",
              "      const reader = new FileReader();\n",
              "      reader.onload = (e) => {\n",
              "        resolve(e.target.result);\n",
              "      };\n",
              "      reader.readAsArrayBuffer(file);\n",
              "    });\n",
              "    // Wait for the data to be ready.\n",
              "    let fileData = yield {\n",
              "      promise: fileDataPromise,\n",
              "      response: {\n",
              "        action: 'continue',\n",
              "      }\n",
              "    };\n",
              "\n",
              "    // Use a chunked sending to avoid message size limits. See b/62115660.\n",
              "    let position = 0;\n",
              "    do {\n",
              "      const length = Math.min(fileData.byteLength - position, MAX_PAYLOAD_SIZE);\n",
              "      const chunk = new Uint8Array(fileData, position, length);\n",
              "      position += length;\n",
              "\n",
              "      const base64 = btoa(String.fromCharCode.apply(null, chunk));\n",
              "      yield {\n",
              "        response: {\n",
              "          action: 'append',\n",
              "          file: file.name,\n",
              "          data: base64,\n",
              "        },\n",
              "      };\n",
              "\n",
              "      let percentDone = fileData.byteLength === 0 ?\n",
              "          100 :\n",
              "          Math.round((position / fileData.byteLength) * 100);\n",
              "      percent.textContent = `${percentDone}% done`;\n",
              "\n",
              "    } while (position < fileData.byteLength);\n",
              "  }\n",
              "\n",
              "  // All done.\n",
              "  yield {\n",
              "    response: {\n",
              "      action: 'complete',\n",
              "    }\n",
              "  };\n",
              "}\n",
              "\n",
              "scope.google = scope.google || {};\n",
              "scope.google.colab = scope.google.colab || {};\n",
              "scope.google.colab._files = {\n",
              "  _uploadFiles,\n",
              "  _uploadFilesContinue,\n",
              "};\n",
              "})(self);\n",
              "</script> "
            ]
          },
          "metadata": {}
        },
        {
          "output_type": "stream",
          "name": "stdout",
          "text": [
            "Saving file.txt.txt to file.txt (1).txt\n"
          ]
        }
      ]
    },
    {
      "cell_type": "code",
      "source": [
        "# Step 1: Open the file in read ('r') mode\n",
        "file = open('file.txt', 'r')\n",
        "\n",
        "# Step 2: Read the file content\n",
        "content = file.read()\n",
        "\n",
        "# Step 3: Process the content (e.g., print it)\n",
        "print(content)\n",
        "\n",
        "# Step 4: Close the file explicitly when done\n",
        "file.close()"
      ],
      "metadata": {
        "colab": {
          "base_uri": "https://localhost:8080/"
        },
        "id": "yyJ5FYSF898l",
        "outputId": "b7c34a60-d099-4f57-dbe2-935dcb5863d4"
      },
      "execution_count": 13,
      "outputs": [
        {
          "output_type": "stream",
          "name": "stdout",
          "text": [
            "This test file.\n"
          ]
        }
      ]
    },
    {
      "cell_type": "markdown",
      "source": [
        "## Step 1: Open the file in read ('r') mode\n",
        "\n",
        "**open('file.txt', 'r'):** This line opens a file named 'file.txt' in read mode ('r'). It returns a file object, which is stored in the variable file. The 'r' mode indicates that the file will be opened for reading."
      ],
      "metadata": {
        "id": "FJjuLKvYDFy2"
      }
    },
    {
      "cell_type": "markdown",
      "source": [
        "## Step 2: Read the file content\n",
        "**content = file.read():** Here, the read() method is called on the file object, which reads the entire content of the file and stores it in the variable content. This step effectively loads the entire content of 'file.txt' into memory."
      ],
      "metadata": {
        "id": "q4fMcsEyDXeJ"
      }
    },
    {
      "cell_type": "markdown",
      "source": [
        "## Step 3: Process the content (e.g., print it)\n",
        "**print(content):** This line prints the content of the file to the standard output (usually the console). You can perform any desired processing on the content variable at this point, such as parsing, searching, or analyzing the text."
      ],
      "metadata": {
        "id": "p6EM8vU_Doru"
      }
    },
    {
      "cell_type": "markdown",
      "source": [
        "## Step 4: Close the file explicitly when done\n",
        "**file.close():** Finally, this line explicitly closes the file using the close() method. Closing the file is important to release system resources and ensure that the file is properly closed after reading. Failing to close the file can lead to resource leaks."
      ],
      "metadata": {
        "id": "6qC6kbMJEFV5"
      }
    },
    {
      "cell_type": "markdown",
      "source": [
        "# The \"with\" Statement"
      ],
      "metadata": {
        "id": "RntYMuiAEMTb"
      }
    },
    {
      "cell_type": "markdown",
      "source": [
        "To simplify file handling and ensure proper closure of files, Python provides the \"with\" statement. It automatically closes the file when operations within the indented block are completed. This is considered best practice when working with files."
      ],
      "metadata": {
        "id": "Tp69wQKjEbm5"
      }
    },
    {
      "cell_type": "code",
      "source": [
        "# Step 1: Open the file using 'with' in read ('r') mode\n",
        "with open('file.txt', 'r') as file:\n",
        "    # Step 2: Read the file content within the 'with' block\n",
        "    content = file.read()\n",
        "\n",
        "    # Step 3: Process the content (e.g., print it)\n",
        "    print(content)\n",
        "# Step 4: The file is automatically closed when the 'with' block exits"
      ],
      "metadata": {
        "colab": {
          "base_uri": "https://localhost:8080/"
        },
        "id": "ojMzJGeZEoJp",
        "outputId": "ab91b895-e02a-4904-8ae6-9b3536b51259"
      },
      "execution_count": 14,
      "outputs": [
        {
          "output_type": "stream",
          "name": "stdout",
          "text": [
            "This test file.\n"
          ]
        }
      ]
    },
    {
      "cell_type": "markdown",
      "source": [
        "# Step 1: Open the file using 'with' in read ('r') mode\n",
        "**with open('file.txt', 'r') as file::** This line opens a file named 'file.txt' in read mode ('r') using the with statement, which is a context manager. The file is automatically closed when the code block inside the with statement exits"
      ],
      "metadata": {
        "id": "TAIK8tYaEzNB"
      }
    },
    {
      "cell_type": "markdown",
      "source": [
        "# Step 2: Read the file content within the 'with' block\n",
        "**content = file.read():** Inside the with block, the read() method is called on the file object. This reads the entire content of the file and stores it in the variable content. Reading the file content occurs within the protected context, ensuring proper resource management"
      ],
      "metadata": {
        "id": "AAxPQ4O0FN4o"
      }
    },
    {
      "cell_type": "markdown",
      "source": [
        "# Step 3: Process the content (e.g., print it)\n",
        "**print(content):** After reading the file's content, this line prints the content to the standard output (usually the console). You can perform any processing on the content variable at this point, such as text analysis, searching, or manipulation."
      ],
      "metadata": {
        "id": "kJ2sfe5mFWNc"
      }
    },
    {
      "cell_type": "markdown",
      "source": [
        "# Step 4: The file is automatically closed when the 'with' block exits\n",
        "After the code block inside the with statement finishes executing (including any processing or printing), the file is automatically closed. You don't need to explicitly call file.close() because the with statement ensures that the file is properly closed, even if an exception occurs during the execution of the code block."
      ],
      "metadata": {
        "id": "GzCMv8SaFdj6"
      }
    },
    {
      "cell_type": "markdown",
      "source": [
        "# **Advantages of using** With **Method**:\n",
        "The key advantages of using the with method are:\n",
        "\n",
        "**Automatic resource management:** The file is guaranteed to be closed when you exit the with block, even if an exception occurs during processing.\n",
        "**Cleaner and more concise code**: You don't need to explicitly call **close()**, making your code more readable and less error-prone.\n",
        "For most file reading and writing operations in Python, the with method is recommended."
      ],
      "metadata": {
        "id": "TPQjZrqfFn6s"
      }
    },
    {
      "cell_type": "markdown",
      "source": [
        "# read method in Python:"
      ],
      "metadata": {
        "id": "hyH3lre8F3Yc"
      }
    },
    {
      "cell_type": "markdown",
      "source": [
        "You can read the entire content of a file using the read method, which stores the data as a string in a variable. This content can be printed or further manipulated as needed."
      ],
      "metadata": {
        "id": "Z6xsmO3hF8vE"
      }
    },
    {
      "cell_type": "code",
      "source": [
        "# Reading and Storing the Entire Content of a File\n",
        "# Using the read method, you can retrieve the complete content of a file\n",
        "# and store it as a string in a variable for further processing or display.\n",
        "# Step 1: Open the file you want to read\n",
        "with open('file.txt', 'r') as file:\n",
        "\n",
        "    # Step 2: Use the read method to read the entire content of the file\n",
        "    file_stuff = file.read()\n",
        "\n",
        "    # Step 3: Now that the file content is stored in the variable 'file_stuff',\n",
        "    # you can manipulate or display it as needed.\n",
        "\n",
        "    # For example, let's print the content to the console:\n",
        "    print(file_stuff)\n",
        "# Step 4: The 'with' block automatically closes the file when it's done,\n",
        "# ensuring proper resource management and preventing resource leaks."
      ],
      "metadata": {
        "colab": {
          "base_uri": "https://localhost:8080/"
        },
        "id": "jTVwsTX3GEHB",
        "outputId": "47f8dbf6-b502-46c8-8a79-8ae004de92f2"
      },
      "execution_count": 17,
      "outputs": [
        {
          "output_type": "stream",
          "name": "stdout",
          "text": [
            "This test file.\n"
          ]
        }
      ]
    },
    {
      "cell_type": "markdown",
      "source": [
        "**Step 1** involves opening the file, specifying 'file.txt' as the file to be opened for reading ('r') mode using the with context manager.\n",
        "\n",
        "**Step 2** utilizes the read() method on the file object (file) to read the entire content of the file. This content is then stored in the file_stuff variable.\n",
        "\n",
        "**Step 3** explains that with the content now stored in file_stuff, you have the flexibility to perform various operations on it. In the example provided, the code prints the content to the console, but you can manipulate, analyze, search, or process the text data in file_stuff based on your specific needs.\n",
        "\n",
        "**Step 4** emphasizes that the with block automatically closes the file when it's done, ensuring proper resource management and preventing resource leaks. This is a crucial aspect of using the with statement when working with files."
      ],
      "metadata": {
        "id": "iqNtAsh2GTvG"
      }
    },
    {
      "cell_type": "markdown",
      "source": [
        "# **Reading Lines**"
      ],
      "metadata": {
        "id": "S7PuZF7mGh8s"
      }
    },
    {
      "cell_type": "markdown",
      "source": [
        "Python provides methods to read files line by line:\n",
        "\n",
        "+ The readlines method reads the file line by line and stores each line as an element in a list. The order of lines in the list corresponds to their order in the file.\n",
        "\n",
        "+ The readline method reads individual lines from the file. It can be called multiple times to read subsequent lines.\n",
        "\n",
        "In Python, the readline() method is like a detective that reads a book one line at a time. Imagine you have a big book, and you want to read it page by page. readline() helps you do just that, but with lines of text instead of pages.\n",
        "\n",
        "Here's how it works:"
      ],
      "metadata": {
        "id": "YQtBNDA7HGYo"
      }
    },
    {
      "cell_type": "markdown",
      "source": [
        "**Opening a File:** First, you need to open the file you want to read using the open() function."
      ],
      "metadata": {
        "id": "0tGMN6Y0HQvq"
      }
    },
    {
      "cell_type": "code",
      "source": [
        "file = open('file.txt', 'r')"
      ],
      "metadata": {
        "id": "CcByHJ8UHwQP"
      },
      "execution_count": 23,
      "outputs": []
    },
    {
      "cell_type": "markdown",
      "source": [
        "**Reading Line by Line:** Now, you can use readline() to read one line from the file at a time. It's like turning the pages of the book, but here, you're getting one sentence (or line) at each turn."
      ],
      "metadata": {
        "id": "KlTYKvUKH25V"
      }
    },
    {
      "cell_type": "code",
      "source": [
        "line1 = file.readline()  # Reads the first line\n",
        "line2 = file.readline()  # Reads the second line"
      ],
      "metadata": {
        "id": "aKuRJyvSH9S2"
      },
      "execution_count": 24,
      "outputs": []
    },
    {
      "cell_type": "markdown",
      "source": [
        "**Using the Lines:** You can do things with each line you read. For example, you can print it, check if it contains specific words, or save it somewhere else."
      ],
      "metadata": {
        "id": "kXj-DFiPIGH_"
      }
    },
    {
      "cell_type": "code",
      "source": [
        "print(line1)  # Print the first line\n",
        "if 'important' in line2:\n",
        "    print('This line is important!')"
      ],
      "metadata": {
        "colab": {
          "base_uri": "https://localhost:8080/"
        },
        "id": "sVysWhj8IISc",
        "outputId": "582738df-bb33-4bea-e62c-a37077f03c81"
      },
      "execution_count": 25,
      "outputs": [
        {
          "output_type": "stream",
          "name": "stdout",
          "text": [
            "This test file.\n",
            "\n",
            "This line is important!\n"
          ]
        }
      ]
    },
    {
      "cell_type": "markdown",
      "source": [
        "**Looping Through Lines:** Typically, you use a loop to read lines until there are no more lines left. It's like reading the entire book, line by line."
      ],
      "metadata": {
        "id": "nRSPSiSZIayr"
      }
    },
    {
      "cell_type": "code",
      "source": [
        "while True:\n",
        "    line = file.readline()\n",
        "    if not line:\n",
        "        break  # Stop when there are no more lines to read\n",
        "    print(line)"
      ],
      "metadata": {
        "colab": {
          "base_uri": "https://localhost:8080/"
        },
        "id": "aI3J0lTiInZA",
        "outputId": "a70c6773-2a24-4c50-c85a-0230f7aaf335"
      },
      "execution_count": 26,
      "outputs": [
        {
          "output_type": "stream",
          "name": "stdout",
          "text": [
            "3rd line \n"
          ]
        }
      ]
    }
  ]
}