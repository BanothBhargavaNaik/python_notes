{
  "nbformat": 4,
  "nbformat_minor": 0,
  "metadata": {
    "colab": {
      "provenance": [],
      "toc_visible": true,
      "authorship_tag": "ABX9TyPRay2RFhI2d4Idkb8+PbVz",
      "include_colab_link": true
    },
    "kernelspec": {
      "name": "python3",
      "display_name": "Python 3"
    },
    "language_info": {
      "name": "python"
    }
  },
  "cells": [
    {
      "cell_type": "markdown",
      "metadata": {
        "id": "view-in-github",
        "colab_type": "text"
      },
      "source": [
        "<a href=\"https://colab.research.google.com/github/BanothBhargavaNaik/python_notes/blob/main/file_handaling.ipynb\" target=\"_parent\"><img src=\"https://colab.research.google.com/assets/colab-badge.svg\" alt=\"Open In Colab\"/></a>"
      ]
    },
    {
      "cell_type": "markdown",
      "source": [
        "**File Handling in Python**"
      ],
      "metadata": {
        "id": "v9SUZ9d-7d_Y"
      }
    },
    {
      "cell_type": "markdown",
      "source": [
        "**Objectives**\n",
        "+ Learn how to open and read text files.\n",
        "+ Understand how the open() function works in Python.\n",
        "+ Get familiar with the 'with' method in Python.\n",
        "+ Discover how to use the read() method in Python.\n",
        "+ Explore the readline() method in Python.\n",
        "+ Learn how to read specific character(s) from a file"
      ],
      "metadata": {
        "id": "NkV52sE_7wUB"
      }
    },
    {
      "cell_type": "markdown",
      "source": [
        "# Reading Text Files\n",
        "Reading text files involves extracting and processing the data stored within them. Text files can have various structures, and how you read them depends on their format. Here's a general guide on reading text files with different structures:"
      ],
      "metadata": {
        "id": "YJSrIB9P8Ymh"
      }
    },
    {
      "cell_type": "markdown",
      "source": [
        "### Plain Text Files:\n",
        "+ Plain text files contain unformatted text without any specific structure.\n",
        "+ You can read plain text files line by line or load the entire content into memory."
      ],
      "metadata": {
        "id": "kDzlBT7Q8iH6"
      }
    },
    {
      "cell_type": "markdown",
      "source": [
        "# Using Python's Open Function\n",
        "\n",
        "Python's open function is used to create a file object and access the data within a text file. It takes two primary parameters:\n",
        "\n",
        "+ **File Path:** The file path consists of the filename and directory where the file is located.\n",
        "\n",
        "+ **Mode:** The mode parameter specifies the purpose of opening the file, such as 'r' for reading, 'w' for writing, or 'a' for appending."
      ],
      "metadata": {
        "id": "qmDc0K0b8rPc"
      }
    },
    {
      "cell_type": "code",
      "source": [
        "# Step 1: Open the file in read ('r') mode\n",
        "file = open('file.txt', 'r')\n",
        "\n",
        "# Step 2: Read the file content\n",
        "content = file.read()\n",
        "\n",
        "# Step 3: Process the content (e.g., print it)\n",
        "print(content)\n",
        "\n",
        "# Step 4: Close the file explicitly when done\n",
        "file.close()"
      ],
      "metadata": {
        "colab": {
          "base_uri": "https://localhost:8080/",
          "height": 245
        },
        "id": "yyJ5FYSF898l",
        "outputId": "903b6e0a-c6ba-4c9a-a205-763227697177"
      },
      "execution_count": 1,
      "outputs": [
        {
          "output_type": "error",
          "ename": "FileNotFoundError",
          "evalue": "[Errno 2] No such file or directory: 'file.txt'",
          "traceback": [
            "\u001b[0;31m---------------------------------------------------------------------------\u001b[0m",
            "\u001b[0;31mFileNotFoundError\u001b[0m                         Traceback (most recent call last)",
            "\u001b[0;32m<ipython-input-1-dad2b978c9ae>\u001b[0m in \u001b[0;36m<cell line: 2>\u001b[0;34m()\u001b[0m\n\u001b[1;32m      1\u001b[0m \u001b[0;31m# Step 1: Open the file in read ('r') mode\u001b[0m\u001b[0;34m\u001b[0m\u001b[0;34m\u001b[0m\u001b[0m\n\u001b[0;32m----> 2\u001b[0;31m \u001b[0mfile\u001b[0m \u001b[0;34m=\u001b[0m \u001b[0mopen\u001b[0m\u001b[0;34m(\u001b[0m\u001b[0;34m'file.txt'\u001b[0m\u001b[0;34m,\u001b[0m \u001b[0;34m'r'\u001b[0m\u001b[0;34m)\u001b[0m\u001b[0;34m\u001b[0m\u001b[0;34m\u001b[0m\u001b[0m\n\u001b[0m\u001b[1;32m      3\u001b[0m \u001b[0;34m\u001b[0m\u001b[0m\n\u001b[1;32m      4\u001b[0m \u001b[0;31m# Step 2: Read the file content\u001b[0m\u001b[0;34m\u001b[0m\u001b[0;34m\u001b[0m\u001b[0m\n\u001b[1;32m      5\u001b[0m \u001b[0mcontent\u001b[0m \u001b[0;34m=\u001b[0m \u001b[0mfile\u001b[0m\u001b[0;34m.\u001b[0m\u001b[0mread\u001b[0m\u001b[0;34m(\u001b[0m\u001b[0;34m)\u001b[0m\u001b[0;34m\u001b[0m\u001b[0;34m\u001b[0m\u001b[0m\n",
            "\u001b[0;31mFileNotFoundError\u001b[0m: [Errno 2] No such file or directory: 'file.txt'"
          ]
        }
      ]
    }
  ]
}